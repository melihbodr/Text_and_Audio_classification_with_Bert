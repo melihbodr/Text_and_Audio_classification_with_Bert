{
  "nbformat": 4,
  "nbformat_minor": 0,
  "metadata": {
    "accelerator": "GPU",
    "colab": {
      "name": "BERTT.ipynb",
      "private_outputs": true,
      "provenance": []
    },
    "kernelspec": {
      "display_name": "Python 3",
      "name": "python3"
    },
    "language_info": {
      "name": "python"
    }
  },
  "cells": [
    {
      "cell_type": "code",
      "metadata": {
        "id": "k7f6eo6Ku_Iq"
      },
      "source": [
        "from google.colab import drive\n",
        "drive.mount('/content/drive')"
      ],
      "execution_count": null,
      "outputs": []
    },
    {
      "cell_type": "code",
      "metadata": {
        "id": "hzgOUsEeZwSv"
      },
      "source": [
        "import numpy as np\n",
        "import pandas as pd"
      ],
      "execution_count": null,
      "outputs": []
    },
    {
      "cell_type": "code",
      "metadata": {
        "id": "875OBWdRu8Fo"
      },
      "source": [
        "!pip install simpletransformers"
      ],
      "execution_count": null,
      "outputs": []
    },
    {
      "cell_type": "code",
      "metadata": {
        "id": "-UYYUfqRu8It"
      },
      "source": [
        "from simpletransformers.classification import ClassificationModel"
      ],
      "execution_count": null,
      "outputs": []
    },
    {
      "cell_type": "code",
      "metadata": {
        "id": "_E66Lu6Su8Lr"
      },
      "source": [
        "a=pd.read_excel(\"/content/drive/MyDrive/Bert/Projem.xlsx\")"
      ],
      "execution_count": null,
      "outputs": []
    },
    {
      "cell_type": "code",
      "metadata": {
        "id": "2BXvastBx4Al"
      },
      "source": [
        "a"
      ],
      "execution_count": null,
      "outputs": []
    },
    {
      "cell_type": "code",
      "metadata": {
        "id": "VobPa5Udu8OD"
      },
      "source": [
        "a[\"kategori\"].unique()"
      ],
      "execution_count": null,
      "outputs": []
    },
    {
      "cell_type": "code",
      "metadata": {
        "id": "xeKrFrOru8Qa"
      },
      "source": [
        "a['labels'] = pd.factorize(a.kategori)[0]"
      ],
      "execution_count": null,
      "outputs": []
    },
    {
      "cell_type": "code",
      "metadata": {
        "id": "LMnjVUNZu8TX"
      },
      "source": [
        "from sklearn.model_selection import train_test_split\n",
        "\n",
        "train, test = train_test_split(a, test_size=0.2, random_state=42)"
      ],
      "execution_count": null,
      "outputs": []
    },
    {
      "cell_type": "code",
      "metadata": {
        "id": "m3JxJrh_u8Vi"
      },
      "source": [
        "train=train[[\"metin\",\"labels\"]]\n",
        "test=test[[\"metin\",\"labels\"]]"
      ],
      "execution_count": null,
      "outputs": []
    },
    {
      "cell_type": "code",
      "metadata": {
        "id": "eeQy2h7ou8Xn"
      },
      "source": [
        "#for bert text = string      label = int\n",
        "train[\"metin\"]=train[\"metin\"].apply(lambda r: str(r))\n",
        "train['labels']=train['labels'].astype(int)"
      ],
      "execution_count": null,
      "outputs": []
    },
    {
      "cell_type": "code",
      "metadata": {
        "id": "-q3G6rTmzXfu"
      },
      "source": [
        "model = ClassificationModel('bert', 'dbmdz/bert-base-turkish-uncased', num_labels=5, use_cuda=False,\n",
        "                            args={'reprocess_input_data': True, 'overwrite_output_dir': True, 'num_train_epochs': 3, \"train_batch_size\": 64 , \"fp16\":False, \"output_dir\": \"bert_model\"})"
      ],
      "execution_count": null,
      "outputs": []
    },
    {
      "cell_type": "code",
      "metadata": {
        "id": "nzBKjUcPzZIM"
      },
      "source": [
        "model.train_model(train)"
      ],
      "execution_count": null,
      "outputs": []
    },
    {
      "cell_type": "code",
      "metadata": {
        "id": "S79ahYVK0p50"
      },
      "source": [
        "result, model_outputs, wrong_predictions = model.eval_model(test)"
      ],
      "execution_count": null,
      "outputs": []
    },
    {
      "cell_type": "code",
      "metadata": {
        "id": "LYgh8dX1u8gQ"
      },
      "source": [
        "predictions = model_outputs.argmax(axis=1)"
      ],
      "execution_count": null,
      "outputs": []
    },
    {
      "cell_type": "code",
      "metadata": {
        "id": "FRC7Rn9ju8iY"
      },
      "source": [
        "actuals = test.labels.values\n"
      ],
      "execution_count": null,
      "outputs": []
    },
    {
      "cell_type": "code",
      "metadata": {
        "id": "fwFV7reb5N9T"
      },
      "source": [
        "predictions[:10]"
      ],
      "execution_count": null,
      "outputs": []
    },
    {
      "cell_type": "code",
      "metadata": {
        "id": "DAUaDP625OOf"
      },
      "source": [
        "actuals[:10]"
      ],
      "execution_count": null,
      "outputs": []
    },
    {
      "cell_type": "code",
      "metadata": {
        "id": "rwF1_cP_u8ki"
      },
      "source": [
        "from sklearn.metrics import accuracy_score\n",
        "accuracy_score(actuals, predictions)"
      ],
      "execution_count": null,
      "outputs": []
    },
    {
      "cell_type": "code",
      "metadata": {
        "id": "EJdqmfZFu8mq"
      },
      "source": [
        "örnek = test.iloc[43]['metin']\n",
        "print(örnek)"
      ],
      "execution_count": null,
      "outputs": []
    },
    {
      "cell_type": "code",
      "metadata": {
        "id": "gZpF9_gP43PS"
      },
      "source": [
        "tahmin=model.predict([dene])\n",
        "\n",
        "if tahmin[0] ==0:\n",
        "  print(\"BİLİM VE TEKNOLOJİ\")\n",
        "elif tahmin[0]==1:\n",
        "  print(\"EKONOMİ\")\n",
        "elif tahmin[0]==2:\n",
        "  print(\"SAĞLIK\")\n",
        "elif tahmin[0]==3:\n",
        "  print(\"SİYASET\")\n",
        "else:\n",
        "  print(\"SPOR\")"
      ],
      "execution_count": null,
      "outputs": []
    },
    {
      "cell_type": "code",
      "metadata": {
        "id": "qM6h0NTJu8q-"
      },
      "source": [
        "#deneme import\n",
        "denemem=pd.read_excel(\"/content/drive/MyDrive/Bert/denemem.xlsx\",names=[\"kategori\",\"metin\"])"
      ],
      "execution_count": null,
      "outputs": []
    },
    {
      "cell_type": "code",
      "metadata": {
        "id": "QXJe8eWx6BbX"
      },
      "source": [
        "denemem"
      ],
      "execution_count": null,
      "outputs": []
    },
    {
      "cell_type": "code",
      "metadata": {
        "id": "0ZzcT4cy50_Q"
      },
      "source": [
        "dene=denemem.iloc[3][\"metin\"]"
      ],
      "execution_count": null,
      "outputs": []
    },
    {
      "cell_type": "code",
      "metadata": {
        "id": "cQqgdweWu8xd"
      },
      "source": [
        "örnek=denemem.iloc[11][\"metin\"]"
      ],
      "execution_count": null,
      "outputs": []
    },
    {
      "cell_type": "code",
      "metadata": {
        "id": "SF5d750du82O"
      },
      "source": [
        "tahmin=model.predict([örnek])\n",
        "\n",
        "if tahmin[0] ==0:\n",
        "  print(\"BİLİM VE TEKNOLOJİ\")\n",
        "elif tahmin[0]==1:\n",
        "  print(\"EKONOMİ\")\n",
        "elif tahmin[0]==2:\n",
        "  print(\"SAĞLIK\")\n",
        "elif tahmin[0]==3:\n",
        "  print(\"SİYASET\")\n",
        "else:\n",
        "  print(\"SPOR\")"
      ],
      "execution_count": null,
      "outputs": []
    },
    {
      "cell_type": "code",
      "metadata": {
        "id": "-QRsepGRu88K"
      },
      "source": [
        "# ses kaydından sınıflandırma\n",
        "\n",
        "import speech_recognition as sr\n",
        "\n",
        "recognizer = sr.Recognizer()\n",
        "\n",
        "''' recording the sound '''\n",
        "\n",
        "with sr.AudioFile(\"/content/drive/MyDrive/Bert/Bilim Ve Teknoloji.wav\") as source:\n",
        "    recorded_audio = recognizer.listen(source)\n",
        "    print(\"Done recording\")\n",
        "\n",
        "''' Recorgnizing the Audio '''\n",
        "try:\n",
        "    print(\"Recognizing the text\")\n",
        "    text = recognizer.recognize_google(\n",
        "            recorded_audio, \n",
        "            language='tr-tr'\n",
        "        )\n",
        "    model.predict([dene])\n",
        "\n",
        "except Exception as ex:\n",
        "    print(ex)\n",
        "c=model.predict([text])\n",
        "\n",
        "\n",
        "if c[0] ==0:\n",
        "  print(\"BİLİM VE TEKNOLOJİ\")\n",
        "elif c[0]==1:\n",
        "  print(\"EKONOMİ\")\n",
        "elif c[0]==2:\n",
        "  print(\"SAĞLIK\")\n",
        "elif c[0]==3:\n",
        "  print(\"SİYASET\")\n",
        "else:\n",
        "  print(\"SPOR\")"
      ],
      "execution_count": null,
      "outputs": []
    },
    {
      "cell_type": "code",
      "metadata": {
        "id": "vQIM18YB63xV"
      },
      "source": [
        ""
      ],
      "execution_count": null,
      "outputs": []
    },
    {
      "cell_type": "code",
      "metadata": {
        "id": "C_tI-BgavoiO"
      },
      "source": [
        ""
      ],
      "execution_count": null,
      "outputs": []
    },
    {
      "cell_type": "code",
      "metadata": {
        "id": "ObaKgP10vrjg"
      },
      "source": [
        ""
      ],
      "execution_count": null,
      "outputs": []
    },
    {
      "cell_type": "code",
      "metadata": {
        "id": "T6FJ5ExYvrmX"
      },
      "source": [
        ""
      ],
      "execution_count": null,
      "outputs": []
    },
    {
      "cell_type": "code",
      "metadata": {
        "id": "WWrawci_vro8"
      },
      "source": [
        ""
      ],
      "execution_count": null,
      "outputs": []
    },
    {
      "cell_type": "code",
      "metadata": {
        "id": "jCHaxQ7jvrrl"
      },
      "source": [
        ""
      ],
      "execution_count": null,
      "outputs": []
    },
    {
      "cell_type": "code",
      "metadata": {
        "id": "goxK_oHdvruI"
      },
      "source": [
        ""
      ],
      "execution_count": null,
      "outputs": []
    },
    {
      "cell_type": "code",
      "metadata": {
        "id": "YRkERSkmvrxg"
      },
      "source": [
        ""
      ],
      "execution_count": null,
      "outputs": []
    },
    {
      "cell_type": "code",
      "metadata": {
        "id": "d1wNjjhjvr0J"
      },
      "source": [
        ""
      ],
      "execution_count": null,
      "outputs": []
    },
    {
      "cell_type": "code",
      "metadata": {
        "id": "CRajoa6yvr2v"
      },
      "source": [
        ""
      ],
      "execution_count": null,
      "outputs": []
    },
    {
      "cell_type": "code",
      "metadata": {
        "id": "5rbCeipAvr6E"
      },
      "source": [
        ""
      ],
      "execution_count": null,
      "outputs": []
    },
    {
      "cell_type": "code",
      "metadata": {
        "id": "dWinxofKvr9C"
      },
      "source": [
        ""
      ],
      "execution_count": null,
      "outputs": []
    },
    {
      "cell_type": "code",
      "metadata": {
        "id": "UejOLvHUvsBS"
      },
      "source": [
        ""
      ],
      "execution_count": null,
      "outputs": []
    },
    {
      "cell_type": "code",
      "metadata": {
        "id": "SleyYoHQvsEK"
      },
      "source": [
        ""
      ],
      "execution_count": null,
      "outputs": []
    },
    {
      "cell_type": "code",
      "metadata": {
        "id": "tuFDGXZYvsHG"
      },
      "source": [
        ""
      ],
      "execution_count": null,
      "outputs": []
    },
    {
      "cell_type": "code",
      "metadata": {
        "id": "4RZIO2szvolJ"
      },
      "source": [
        ""
      ],
      "execution_count": null,
      "outputs": []
    },
    {
      "cell_type": "code",
      "metadata": {
        "id": "YsZorZpQvooQ"
      },
      "source": [
        ""
      ],
      "execution_count": null,
      "outputs": []
    },
    {
      "cell_type": "code",
      "metadata": {
        "id": "lwmjYRYFvoqw"
      },
      "source": [
        ""
      ],
      "execution_count": null,
      "outputs": []
    },
    {
      "cell_type": "code",
      "metadata": {
        "id": "u80uDhnEvotI"
      },
      "source": [
        ""
      ],
      "execution_count": null,
      "outputs": []
    },
    {
      "cell_type": "code",
      "metadata": {
        "id": "_3WRlZnLvovg"
      },
      "source": [
        ""
      ],
      "execution_count": null,
      "outputs": []
    },
    {
      "cell_type": "code",
      "metadata": {
        "id": "pO-EdlbDvo4W"
      },
      "source": [
        ""
      ],
      "execution_count": null,
      "outputs": []
    },
    {
      "cell_type": "code",
      "metadata": {
        "id": "u_MKIgpSvo7e"
      },
      "source": [
        ""
      ],
      "execution_count": null,
      "outputs": []
    },
    {
      "cell_type": "code",
      "metadata": {
        "id": "VUyMY7H5vo-B"
      },
      "source": [
        ""
      ],
      "execution_count": null,
      "outputs": []
    },
    {
      "cell_type": "code",
      "metadata": {
        "id": "OA0Pro0kvpAt"
      },
      "source": [
        ""
      ],
      "execution_count": null,
      "outputs": []
    },
    {
      "cell_type": "code",
      "metadata": {
        "id": "D_emRMzCvpDZ"
      },
      "source": [
        ""
      ],
      "execution_count": null,
      "outputs": []
    },
    {
      "cell_type": "code",
      "metadata": {
        "id": "vmsKgzkBvpGP"
      },
      "source": [
        ""
      ],
      "execution_count": null,
      "outputs": []
    },
    {
      "cell_type": "code",
      "metadata": {
        "id": "sUk8cppOvpIu"
      },
      "source": [
        ""
      ],
      "execution_count": null,
      "outputs": []
    },
    {
      "cell_type": "code",
      "metadata": {
        "id": "vpOFZy8RvpLN"
      },
      "source": [
        ""
      ],
      "execution_count": null,
      "outputs": []
    },
    {
      "cell_type": "code",
      "metadata": {
        "id": "7nyT86_QvpNv"
      },
      "source": [
        ""
      ],
      "execution_count": null,
      "outputs": []
    },
    {
      "cell_type": "code",
      "metadata": {
        "id": "x86NGBPovpRi"
      },
      "source": [
        ""
      ],
      "execution_count": null,
      "outputs": []
    },
    {
      "cell_type": "code",
      "metadata": {
        "id": "qP1ln63TvpUH"
      },
      "source": [
        ""
      ],
      "execution_count": null,
      "outputs": []
    },
    {
      "cell_type": "code",
      "metadata": {
        "id": "13ewN3RQvpWl"
      },
      "source": [
        ""
      ],
      "execution_count": null,
      "outputs": []
    },
    {
      "cell_type": "code",
      "metadata": {
        "id": "smPZT57du8-U"
      },
      "source": [
        ""
      ],
      "execution_count": null,
      "outputs": []
    },
    {
      "cell_type": "code",
      "metadata": {
        "id": "3-cZaaC2u9Ad"
      },
      "source": [
        ""
      ],
      "execution_count": null,
      "outputs": []
    },
    {
      "cell_type": "code",
      "metadata": {
        "id": "UVo3p04eu9Cq"
      },
      "source": [
        ""
      ],
      "execution_count": null,
      "outputs": []
    },
    {
      "cell_type": "code",
      "metadata": {
        "id": "MVdgqBjvu9F4"
      },
      "source": [
        ""
      ],
      "execution_count": null,
      "outputs": []
    },
    {
      "cell_type": "code",
      "metadata": {
        "id": "1jmCG3L5u9IP"
      },
      "source": [
        ""
      ],
      "execution_count": null,
      "outputs": []
    }
  ]
}